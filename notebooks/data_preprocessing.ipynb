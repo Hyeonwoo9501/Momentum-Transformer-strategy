{
 "cells": [
  {
   "cell_type": "code",
   "execution_count": 1,
   "id": "52c4a380",
   "metadata": {},
   "outputs": [],
   "source": [
    "import pandas as pd\n",
    "import yfinance as yf\n",
    "import matplotlib.pyplot as plt"
   ]
  },
  {
   "cell_type": "code",
   "execution_count": 2,
   "id": "98f84650",
   "metadata": {},
   "outputs": [],
   "source": [
    "def read_symbols(file_path):\n",
    "    df = pd.read_csv(file_path)\n",
    "    return df['Symbol'].tolist()\n",
    "\n",
    "\n",
    "# read NYSE, NASDAQ, AMEX Symbol\n",
    "symbols_nyse = read_symbols('../data/raw/NYSE.csv')\n",
    "symbols_nasdaq = read_symbols('../data/raw/NASDAQ.csv')\n",
    "symbols_amex = read_symbols('../data/raw/AMEX.csv')\n",
    "\n",
    "all_symbols = symbols_nyse + symbols_nasdaq + symbols_amex"
   ]
  },
  {
   "cell_type": "code",
   "execution_count": 4,
   "id": "249218d3",
   "metadata": {},
   "outputs": [
    {
     "data": {
      "text/plain": [
       "7197"
      ]
     },
     "execution_count": 4,
     "metadata": {},
     "output_type": "execute_result"
    }
   ],
   "source": [
    "len(all_symbols)"
   ]
  },
  {
   "cell_type": "code",
   "execution_count": 5,
   "id": "6aacfce7",
   "metadata": {
    "scrolled": false
   },
   "outputs": [
    {
     "name": "stdout",
     "output_type": "stream",
     "text": [
      "[                       0%%                      ]  35 of 7196 completed"
     ]
    },
    {
     "name": "stderr",
     "output_type": "stream",
     "text": [
      "Failed to get ticker 'BF/A' reason: Expecting value: line 1 column 1 (char 0)\n"
     ]
    },
    {
     "name": "stdout",
     "output_type": "stream",
     "text": [
      "[*                      2%%                      ]  138 of 7196 completed"
     ]
    },
    {
     "name": "stderr",
     "output_type": "stream",
     "text": [
      "Failed to get ticker 'BRK/A' reason: Expecting value: line 1 column 1 (char 0)\n"
     ]
    },
    {
     "name": "stdout",
     "output_type": "stream",
     "text": [
      "[*                      3%%                      ]  204 of 7196 completed"
     ]
    },
    {
     "name": "stderr",
     "output_type": "stream",
     "text": [
      "Failed to get ticker 'BF/B' reason: Expecting value: line 1 column 1 (char 0)\n"
     ]
    },
    {
     "name": "stdout",
     "output_type": "stream",
     "text": [
      "[***************       31%%                      ]  2242 of 7196 completed"
     ]
    },
    {
     "name": "stderr",
     "output_type": "stream",
     "text": [
      "Failed to get ticker 'AKO/B' reason: Expecting value: line 1 column 1 (char 0)\n"
     ]
    },
    {
     "name": "stdout",
     "output_type": "stream",
     "text": [
      "[****************      34%%                      ]  2477 of 7196 completed"
     ]
    },
    {
     "name": "stderr",
     "output_type": "stream",
     "text": [
      "Failed to get ticker 'BIO/B' reason: Expecting value: line 1 column 1 (char 0)\n"
     ]
    },
    {
     "name": "stdout",
     "output_type": "stream",
     "text": [
      "[**********************56%%*                     ]  4041 of 7196 completed"
     ]
    },
    {
     "name": "stderr",
     "output_type": "stream",
     "text": [
      "Failed to get ticker 'CRD/B' reason: Expecting value: line 1 column 1 (char 0)\n"
     ]
    },
    {
     "name": "stdout",
     "output_type": "stream",
     "text": [
      "[**********************65%%*****                 ]  4672 of 7196 completed"
     ]
    },
    {
     "name": "stderr",
     "output_type": "stream",
     "text": [
      "Failed to get ticker 'WSO/B' reason: Expecting value: line 1 column 1 (char 0)\n"
     ]
    },
    {
     "name": "stdout",
     "output_type": "stream",
     "text": [
      "[**********************68%%*******               ]  4866 of 7196 completed"
     ]
    },
    {
     "name": "stderr",
     "output_type": "stream",
     "text": [
      "Failed to get ticker 'HEI/A' reason: Expecting value: line 1 column 1 (char 0)\n"
     ]
    },
    {
     "name": "stdout",
     "output_type": "stream",
     "text": [
      "[**********************77%%***********           ]  5561 of 7196 completed"
     ]
    },
    {
     "name": "stderr",
     "output_type": "stream",
     "text": [
      "Failed to get ticker 'CRD/A' reason: Expecting value: line 1 column 1 (char 0)\n"
     ]
    },
    {
     "name": "stdout",
     "output_type": "stream",
     "text": [
      "[**********************83%%**************        ]  5983 of 7196 completed"
     ]
    },
    {
     "name": "stderr",
     "output_type": "stream",
     "text": [
      "Failed to get ticker 'BRK/B' reason: Expecting value: line 1 column 1 (char 0)\n"
     ]
    },
    {
     "name": "stdout",
     "output_type": "stream",
     "text": [
      "[**********************93%%*******************   ]  6685 of 7196 completed"
     ]
    },
    {
     "name": "stderr",
     "output_type": "stream",
     "text": [
      "Failed to get ticker 'AKO/A' reason: Expecting value: line 1 column 1 (char 0)\n"
     ]
    },
    {
     "name": "stdout",
     "output_type": "stream",
     "text": [
      "[**********************98%%********************* ]  7055 of 7196 completed"
     ]
    },
    {
     "name": "stderr",
     "output_type": "stream",
     "text": [
      "Failed to get ticker 'ABR^F' reason: ('Connection aborted.', ConnectionResetError(10054, '현재 연결은 원격 호스트에 의해 강제로 끊겼습니다', None, 10054, None))\n"
     ]
    },
    {
     "name": "stdout",
     "output_type": "stream",
     "text": [
      "[*********************100%%**********************]  7196 of 7196 completed"
     ]
    },
    {
     "name": "stderr",
     "output_type": "stream",
     "text": [
      "\n",
      "2111 Failed downloads:\n",
      "['HPP^C', 'BF/A', 'GLP^A', 'RJF^B', 'BRK/A', 'ATH^E', 'SRG^A', 'ABR^E', 'CODI^C', 'BF/B', 'BAC^S', 'JPM^M', 'MITT^A', 'SPG^J', 'RHE^A', 'COF^J', 'NLY^F', 'CHMI^B', 'KEY^J', 'RITM^C', 'SLG^I', 'VNO^M', 'BAC^N', 'RNR^G', 'T^C', 'CLDT^A', 'ATH^C', 'AIG^A', 'PMT^A', 'ALTG^A', 'UMH^D', 'BEP^A', 'DBRG^H', 'TRTX^C', 'SB^D', 'SF^B', 'NYCB^U', 'DUK^A', 'INN^E', 'CDR^C', 'WCC^A', 'ATH^B', 'NREF^A', 'NLY^G', 'CMRE^E', 'PEB^F', 'STT^G', 'NCV^A', 'CHMI^A', 'ARGO^A', 'WAL^A', 'C^J', 'NS^A', 'SF^C', 'RC^C', 'RIV^A', 'DLNG^B', 'USB^H', 'TFC^I', 'SHO^I', 'ATH^D', 'MS^F', 'GPMT^A', 'GLOP^A', 'AMH^H', 'XFLT^A', 'AGM^E', 'WFC^R', 'DSX^B', 'PRIF^J', 'SR^A', 'MET^F', 'PSA^P', 'KIM^L', 'IVR^B', 'SYF^B', 'BIP^A', 'DLR^K', 'MS^E', 'PCG^A', 'EFC^D', 'BOH^A', 'SITC^A', 'JPM^L', 'IVR^C', 'NEE^R', 'IIPR^A', 'SF^D', 'EFC^A', 'SPE^C', 'MFA^C', 'GAM^B', 'PRIF^K', 'JPM^C', 'HIG^G', 'PCG^H', 'GAB^G', 'DBRG^I', 'EPR^C', 'AMH^G', 'BML^H', 'GRBK^A', 'GAB^H', 'ETI^', 'AHT^H', 'PSA^R', 'RMPL^', 'USB^R', 'BANC^F', 'CIO^A', 'CTO^A', 'DLR^L', 'CIM^D', 'AHL^E', 'FHN^F', 'AHT^F', 'TRTN^E', 'KIM^M', 'SAND          ', 'PSA^F', 'NI^B', 'BAC^K', 'TNP^E', 'AKO/B', 'STT^D', 'COF^I', 'PCG^E', 'NCZ^A', 'FHN^B', 'MET^E', 'PSEC^A', 'BAC^B', 'BW^A', 'WRB^G', 'ARR^C', 'C^N', 'TFC^R', 'AGM^C', 'GMRE^A', 'MS^P', 'RF^E', 'BIO/B', 'SYF^A', 'RITM^D', 'PRIF^F', 'MS^O', 'GGN^B', 'USB^A', 'TRTN^B', 'CFR^B', 'COF^K', 'BAC^P', 'INN^F', 'PRIF^I', 'GLP^B', 'SNV^E', 'GAB^K', 'TGH^A', 'PSA^N', 'SCE^H', 'OPP^B', 'BFS^D', 'AHT^D', 'WFC^A', 'PSA^M', 'CDR^B', 'NEE^N', 'WFC^D', 'MET^A', 'WFC^Z', 'KEY^K', 'GGT^E', 'SCE^G', 'JPM^D', 'ALL^B', 'F^D', 'GNT^A', 'GLU^A', 'EP^C', 'GL^D', 'ATCO^D', 'VOYA^B', 'PEB^G', 'SB^C', 'JPM^K', 'TY^', 'WRB^E', 'ADC^A', 'PRIF^D', 'ACP^A', 'WFC^L', 'AGM^F', 'SPNT^B', 'AUB^A', 'CADE^A', 'BML^L', 'CTA^B', 'TNP^F', 'PSA^Q', 'GS^K', 'PSA^O', 'F^C', 'WFC^Y', 'ET^I', 'F^B', 'BAC^Q', 'BC^A', 'YCBD^A', 'DBRG^J', 'CRD/B', 'TDS^U', 'HWM^', 'PCG^C', 'CMRE^B', 'DLR^J', 'PCG^I', 'GLOP^B', 'AGM^G', 'TWO^C', 'CFG^E', 'OAK^A', 'OPP^A', 'GS^C', 'TFC^O', 'PSA^K', 'GLOG^A', 'EPR^E', 'RF^C', 'GS^D', 'PSA^G', 'USB^Q', 'PRIF^L', 'PRE^J', 'AHL^C', 'GGT^G', 'BAC^E', 'WBS^F', 'BML^G', 'SCHW^D', 'KEY^I', 'RC^E', 'CUBI^F', 'BC^B', 'NS^C', 'TWO^A', 'CMS^B', 'FBRT^E', 'MS^K', 'CUBI^E', 'RLJ^A', 'CLVT^A', 'PSA^S', 'WSO/B', 'TRTN^A', 'SCHW^J', 'ATCO^H', 'PMT^B', 'FHN^D', 'USB^S', 'PSA^I', 'AHT^I', 'MTB^H', 'ACR^D', 'RF^B', 'TGH^B', 'MITT^B', 'GNL^E', 'HEI/A', 'AL^A', 'BML^J', 'ETX           ', 'SPLP^A', 'CIM^B', 'USB^P', 'PSA^L', 'KIM^N', 'NGL^C', 'AEL^A', 'PCG^G', 'CMRE^C', 'RNR^F', 'ATH^A', 'CFG^D', 'ECF^A', 'ASB^E', 'MITT^C', 'PW^A', 'GS^A', 'FEI           ', 'GNL^B', 'CODI^A', 'VNO^L', 'PCG^D', 'WBS^G', 'NLY^I', 'RWT^A', 'JXN^A', 'EQH^A', 'SCE^M', 'ABR^D', 'TRTN^D', 'CRD/A', 'BAC^M', 'AHH^A', 'MS^A', 'SEAL^B', 'SEAL^A', 'MER^K', 'GNL^A', 'SACH^A', 'EPR^G', 'APO^A', 'WRB^H', 'JPM^J', 'TRTN^C', 'CIM^C', 'ASB^F', 'CMS^C', 'LFT^A', 'MAA^I', 'RITM^A', 'FRT^C', 'ALL^I', 'NYCB^A', 'COF^N', 'BRK/B', 'SCE^J', 'LXP^C', 'TDS^V', 'SNV^D', 'VNO^O', 'WFC^C', 'O^', 'ICR^A', 'KEY^L', 'EFC^B', 'GNL^D', 'MS^L', 'NSA^A', 'PBI^B', 'PRIF^G', 'MFA^B', 'DLNG^A', 'CODI^B', 'GTLS^B', 'MDV^A', 'ET^E', 'SCE^K', 'FHN^C', 'TWO^B', 'EQC^D', 'NXDT^A', 'PSA^H', 'AULT^D', 'HFRO^A', 'EFC^E', 'COF^L', 'GSL^B', 'T^A', 'PEB^H', 'ALL^J', 'NS^B', 'CMRE^D', 'PEB^E', 'REXR^C', 'ECC^D', 'ALL^H', 'PMT^C', 'GDV^H', 'MS^I', 'GLOP^C', 'BAC^L', 'ACR^C', 'LNC^D', 'AKO/A', 'DRH^A', 'AHT^G', 'NGL^B', 'REXR^B', 'BHR^D', 'DX^C', 'CSR^C', 'BHR^B', 'EFC^C', 'BIP^B', 'AXS^E', 'PCG^B', 'VNO^N', 'GDV^K', 'AHL^D', 'BFS^E', 'AEL^B', 'AGM^D', 'CTA^A', 'CIM^A', 'PSA^J', 'RITM^B', 'BCV^A', 'GUT^C', 'BAC^O', 'CNO^A', 'FHN^E', 'ABR^F', 'OAK^B', 'BC^C', 'EQH^C', 'ECC           ', 'WRB^F', 'SCE^L', 'KREF^A', 'GDL^C']: Exception('%ticker%: No timezone found, symbol may be delisted')\n",
      "['CJET', 'GANX', 'BRCC', 'HWH', 'FLFV', 'ZKH', 'HNVR', 'OCS', 'ONFO', 'VALN', 'BTBD', 'ATAI', 'HSPO', 'SRBK', 'AUVIP', 'MIRA', 'CISS', 'SELX', 'DOUG', 'TRML', 'SPPL', 'MOVE', 'RILYG', 'NRGV', 'AMAM', 'PCOR', 'BGXX', 'ASAI', 'EHAB', 'APOS', 'ATMV', 'PNST', 'BFRI', 'TCJH', 'GTLB', 'ULCC', 'NEXN', 'CDZIP', 'ULY', 'BKDT', 'UZF', 'RPHM', 'FBLG', 'SSSSL', 'OSAAW', 'ECCX', 'GECCO', 'OMH', 'HRT', 'THCPU', 'LOT', 'TGVC', 'IINN', 'EJH', 'ZIP', 'RILYK', 'MYNA', 'LUCD', 'AKA', 'WRNT', 'CFLT', 'TFPM', 'SNAL', 'NFYS', 'RVSN', 'KARO', 'BNIX', 'LGVC', 'BANL', 'MSS', 'LDTC', 'SBXC', 'EVEX', 'TBLA', 'SDHC', 'OXLCO', 'WEL', 'BEEP', 'MRAI', 'BTMD', 'RWAYL', 'DDL', 'EVCM', 'DNA', 'OB', 'GCT', 'HKD', 'CNDB', 'UPC', 'SQSP', 'TPET', 'AESI', 'ILAG', 'PTLO', 'SOVO', 'ASTI', 'ATEK', 'AAMC', 'SAZ', 'SWSS', 'PLMI', 'MQ', 'OPAL', 'RENT', 'ATLX', 'RMGC', 'JCSE', 'GNLX', 'ATLCP', 'NBST', 'NXL', 'CBRGU', 'AGNCL', 'ATPC', 'CNM', 'SNCRL', 'PORT', 'IHS', 'STVN', 'IREN', 'ECX', 'DH', 'BBLG', 'NMAI', 'CNOBP', 'DOLE', 'HEPS', 'PYCR', 'LVLU', 'PX', 'VSTE', 'VLTO', 'BREA', 'THCP', 'CETY', 'BQ', 'BWBBP', 'VSTS', 'CART', 'GPOR', 'LUXHP', 'HOUR', 'GHRS', 'KRNL', 'IMMX', 'SLAM', 'VSME', 'AITRU', 'NEWTI', 'SVV', 'DWACU', 'CDLR', 'MSAI', 'RXO', 'OFSSH', 'WKME', 'TCRX', 'TMC', 'PL', 'EXTO', 'SOC', 'CITE', 'IMPPP', 'FTII', 'VTMX', 'NCNC', 'SMFL', 'CFSB', 'SMX', 'FCRX', 'ODD', 'FCNCO', 'HG', 'VMEO', 'TENK', 'ACRV', 'BCSA', 'EUDA', 'OCCIN', 'BEPI', 'MFAN', 'TCBP', 'LZM', 'ASST', 'GETR', 'BHM', 'ONYX', 'SAI', 'TDCX', 'LANDP', 'WAVE', 'OLPX', 'EFSCP', 'BIRD', 'NTRB', 'KVACU', 'GROY', 'YOSH', 'YOTA', 'TBIO', 'MGIH', 'BLZE', 'AGRI', 'JNVR', 'BYNO', 'RBLX', 'DNUT', 'FGN', 'YS', 'GXO', 'HBANL', 'ALKT', 'AIRS', 'WDH', 'SAT', 'TGL', 'FOXO', 'JYD', 'CDAQ', 'LVRO', 'ERAS', 'FEMY', 'MSDL', 'JXN', 'LAC', 'XOMAO', 'DV', 'ACDC', 'SAVAW', 'WRAC', 'OCAX', 'BTSG', 'BENF', 'SVIIU', 'CRGX', 'OBDE', 'IPXXU', 'CRDO', 'OCCIO', 'HCMA', 'MLEC', 'USCT', 'HCVIU', 'APXI', 'SRM', 'BCAN', 'CXM', 'NUTX', 'ACGLN', 'EICB', 'MBINM', 'APP', 'TCBX', 'ZFOXW', 'CR', 'ANRO', 'AFJK', 'WTO', 'ONL', 'RILYZ', 'ARBKL', 'NXT', 'SCCD', 'FTRE', 'TPTA', 'ISRL', 'BIGZ', 'DEC', 'SG', 'RENE', 'NETDU', 'ANSC', 'RMCO', 'GDST', 'NVNI', 'EMBC', 'CTNT', 'BAER', 'SHLT', 'JTAI', 'PTIX', 'IMPP', 'AMPX', 'TNYA', 'CRGO', 'SLND', 'NXGL', 'ETAO', 'LUCY', 'SSIC', 'CAVA', 'DECA', 'CLST', 'GAINN', 'GXAI', 'RZC', 'TCBS', 'ARIZ', 'BZFD', 'RLYB', 'FLYX', 'MFICL', 'HUDAR', 'LNKB', 'PRCT', 'KNF', 'NEUE', 'FMST', 'AZTR', 'AHR', 'MLGO', 'VLCN', 'AXIL', 'FLFVU', 'YOU', 'PMGM', 'JVSAU', 'CISO', 'RXRX', 'RELY', 'NPFD', 'ALLR', 'CION', 'SPRC', 'IAS', 'LITM', 'PROK', 'SPEC', 'SMWB', 'ADRT', 'SAJ', 'SIDU', 'INTR', 'DATSW', 'POWWP', 'MITA', 'LYT', 'PET', 'TCBC', 'WALD', 'HPCO', 'HLVX', 'ASNS', 'MSGE', 'PRZO', 'WLGS', 'TASK', 'DUOL', 'BRLS', 'TMTC', 'DCFC', 'LTRY', 'NVAC', 'LZ', 'ARBK', 'TRINL', 'HLTH', 'CGTX', 'AVTE', 'APLM', 'DTC', 'BCSAU', 'PGSS', 'ECO', 'HTFB', 'BPYPM', 'AENT', 'LBPH', 'SHIM', 'EMLD', 'SRAD', 'EVE', 'BIPH', 'KKRS', 'MGAM', 'APAC', 'EXAI', 'KGS', 'PRME', 'WINV', 'PGY', 'CETU', 'HLXB', 'TWOA', 'ZENV', 'IRAA', 'AS', 'ACAC', 'BFAC', 'KD', 'TSBX', 'RANI', 'AAGR', 'ATLCZ', 'XBP', 'BIPI', 'RWTN', 'SDRL', 'TYGO', 'ATGL', 'QDRO', 'CTCX', 'FLYW', 'EMCGU', 'BACA', 'ALCC', 'MTAL', 'DOCS', 'OP', 'LVTX', 'BFRG', 'ASPI', 'AOMR', 'USCB', 'HYW', 'ABVX', 'NPCE', 'MNR', 'SYM', 'PWSC', 'PLMJ', 'CSWCZ', 'NPAB', 'HAIA', 'GDHG', 'PAXS', 'PFTA', 'PRM', 'ONCO', 'TWKS', 'GODNU', 'SRFM', 'DIBS', 'SVRE', 'CNTX', 'AGL', 'CEG', 'LFST', 'TMCI', 'UNCY', 'DERM', 'VSACU', 'DLO', 'EZFL', 'GLUE', 'ATCOL', 'BRAC', 'TELZ', 'PFTAU', 'FOSLL', 'TRUG', 'SWIN', 'IVCA', 'GSIW', 'GAMB', 'AIRE', 'TRON', 'FNCH', 'STRW', 'ELPC', 'WLDS', 'TIL', 'DALN', 'FTEL', 'TBBB', 'CPTN', 'DHCAU', 'HSAI', 'DRUG', 'ATMC', 'SATL', 'ENGN', 'CPNG', 'SDIG', 'CHSN', 'FLNC', 'GMFI', 'FWRG', 'KYTX', 'ADTH', 'BHAC', 'OAKU', 'MGRD', 'PXMD', 'BHVN', 'SWKHL', 'AVAH', 'OABI', 'JFBR', 'XPON', 'GAINL', 'ZVSA', 'SLRN', 'ECCV', 'FTAIN', 'USEA', 'JWEL', 'REGCP', 'BNRG', 'CLRC', 'DFLI', 'MLNK', 'APGE', 'SGHT', 'WDI', 'HUBC', 'SOND', 'APCA', 'OMIC', 'ALUR', 'SOPH', 'MARXU', 'FSCO', 'AMIX', 'VEEE', 'VIGL', 'ALVO', 'CBRG', 'SWIM', 'BRDG', 'NBXG', 'BWNB', 'PUCK', 'DPSI', 'CRGY', 'AKLI', 'RGTI', 'NOVV', 'VSAC', 'XPDB', 'REFI', 'BHFAM', 'WBX', 'SEMR', 'LTH', 'NKGN', 'GAMCU', 'CMND', 'BLND', 'DYCQU', 'CVRX', 'BLTE', 'IMAQ', 'INFA', 'KITT', 'BIAF', 'IMAQU', 'LNZA', 'COYA', 'ECAT', 'DO', 'RUM', 'MITN', 'VBNK', 'IPSC', 'TLGY', 'NLOP', 'CYT', 'DMYY', 'FEBO', 'UCAR', 'FA', 'MOLN', 'LRHC', 'SYT', 'AGTI', 'GEHC', 'KVUE', 'PIII', 'LOCL', 'GLST', 'CYN', 'EWCZ', 'IVCPU', 'HNST', 'GUTS', 'ARQQW', 'FEAM', 'TKLF', 'PHIN', 'HTIBP', 'LUNR', 'BTSGU', 'VFS', 'EMCG', 'ZVIA', 'IZM', 'XFIN', 'BNOX', 'XPER', 'VSCO', 'ROCL', 'VINE', 'MGOL', 'CPBI', 'KSCP', 'DRCT', 'HTZ', 'PAPL', 'MODD', 'BON', 'XELAP', 'PEGR', 'CORZ', 'ABLV', 'SLNHP', 'DMA', 'SGN', 'HCWB', 'CNGLU', 'HOLO', 'AMBP', 'TBMC', 'TELO', 'MGLD', 'PBBK', 'BBAI', 'SKYX', 'CTKB', 'MURA', 'RNAZ', 'ASCA', 'GAINZ', 'AMPL', 'JTAIZ', 'ASTL', 'PRLH', 'LBBB', 'STKH', 'PRE', 'IKNA', 'KLG', 'DOCN', 'TRTL', 'ARQQ', 'KVYO', 'CCIA', 'BAYAU', 'KSPI', 'OSA', 'CREV', 'LSDI', 'VCXB', 'MLYS', 'ALCE', 'MAMA', 'SVII', 'GUG', 'IMRX', 'CCLDO', 'TETE', 'MDBH', 'OTLY', 'FHLT', 'MNTN', 'MSBIP', 'GFAI', 'NMFCZ', 'CHAA', 'LRE', 'UPXI', 'FIAC', 'GLAC', 'JZ', 'ATLCL', 'METCB', 'MRDB', 'VCIG', 'AREB', 'XPOF', 'AFAR', 'AEON', 'GMM', 'DSAQ', 'HROWM', 'ANL', 'DHCA', 'HSHP', 'VGAS', 'NNAGU', 'BBLGW', 'RR', 'TIVC', 'MPTI', 'FEXD', 'CFFS', 'MBLY', 'GIPR', 'ICU', 'BEPH', 'ZAPP', 'SPGC', 'ISPC', 'ABOS', 'NYXH', 'GBTG', 'RMMZ', 'ZH', 'SWAG', 'LANV', 'NUKKW', 'GRRR', 'ATCH', 'GPCR', 'FNVT', 'ACLX', 'PHYT', 'STSS', 'VLN', 'NXU', 'MTEK', 'IFBD', 'SN', 'TYRA', 'XMTR', 'CBL', 'INAB', 'DATS', 'RWAY', 'NU', 'AQNU', 'TOP', 'COCO', 'LIAN', 'NPCT', 'BEAT', 'METCL', 'GFS', 'PLTN', 'EE', 'ECCC', 'ESAB', 'UROY', 'SPKLU', 'SHPH', 'LCW', 'LAW', 'OLK', 'ARIS', 'EICA', 'ESHA', 'LAES', 'CRBG', 'SLDP', 'PEV', 'SERA', 'FORA', 'BMR', 'PARAP', 'MRT', 'DTI', 'GOODO', 'COIN', 'BOWN', 'AUID', 'ENCPU', 'HTCR', 'EFTR', 'NABL', 'MDV', 'ARM', 'SGE', 'CGABL', 'RLTY', 'KRT', 'CSLR', 'ESACU', 'DHAI', 'LLYVA', 'CNTB', 'AKAN', 'ATAT', 'BROS', 'AACT', 'NUVL', 'TMCWW', 'GNS', 'ENLT', 'NVTS', 'ACON', 'WTMA', 'IONR', 'CLOE', 'HNNAZ', 'HAO', 'HNRA', 'CWD', 'MWG', 'OCEA', 'PPYA', 'MDAI', 'COMP', 'PTWO', 'ZURA', 'THAR', 'APLD', 'SNTG', 'CNDA', 'IVCP', 'UMAC', 'YMM', 'RERE', 'STBX', 'BLAC', 'TWLV', 'ROSS', 'TCOA', 'KMPB', 'CVKD', 'PSBD', 'SGMT', 'NBBK', 'SMR', 'QETAU', 'TRIS', 'GREEL', 'EWTX', 'OST', 'GDTC', 'BUJA', 'SLNA', 'PYXS', 'FTAIM', 'AUR', 'EDBL', 'RIVN', 'GLADZ', 'GBBK', 'REGCO', 'FGI', 'CRBU', 'WEAV', 'INTS', 'CCTG', 'LIPO', 'DIST', 'STRC', 'BRZE', 'BODY', 'BITE', 'FIGS', 'GVH', 'SYNX', 'IVP', 'BLCO', 'AITR', 'HSCS', 'PODC', 'BOCN', 'IOT', 'CING', 'AIP', 'ALTI', 'EM', 'PRVA', 'OZ', 'ALLG', 'SXTP', 'INNV', 'CCSI', 'FORLU', 'ECDA', 'BRNS', 'IROHU', 'TBLD', 'ADSE', 'TNON', 'MAQC', 'BNRE', 'LGCB', 'MIO', 'CCTS', 'BETR', 'NVX', 'MEGI', 'NATL', 'SMRT', 'BRSH', 'BTM', 'QETA', 'DBGI', 'STHO', 'CALC', 'LLAP', 'HTFC', 'MBINN', 'ABSI', 'PEPL', 'TRONU', 'HAYW', 'CDT', 'UGIC', 'ALHC', 'QSG', 'SOUN', 'HOWL', 'GPAC', 'BRLT', 'MSSA', 'SYRA', 'INKT', 'VAL', 'LASE', 'AUST', 'FRLA', 'ACXP', 'KIND', 'SMXT', 'SCRM', 'CAUD', 'MBTC', 'ANEB', 'SAGA', 'OXLCL', 'MITQ', 'AIXI', 'VMCA', 'FGBIP', 'ABLLL', 'NMRA', 'FRZA', 'SCCG', 'GNTA', 'CMPX', 'AIMAU', 'NCDL', 'EXFY', 'FG', 'NNAG', 'BZ', 'AIMBU', 'MCAC', 'AEAE', 'NYMTZ', 'TSVT', 'NAPA', 'PIK', 'CSAN', 'STER', 'BOWNU', 'CRML', 'DSGN', 'STIX', 'GROV', 'HCVI', 'TXO', 'OGN', 'CDRE', 'BJDX', 'MYNZ', 'KYCH', 'SWVL', 'MOBBW', 'SKGR', 'PSNY', 'PEPG', 'HUDA', 'WETH', 'ZGN', 'SOAR', 'BMN', 'AONC', 'SNCE', 'JL', 'PAY', 'BBUC', 'GLBE', 'NCL', 'S', 'KCGI', 'PERF', 'RBT', 'KTTA', 'ROMA', 'IXHL', 'CCG', 'SHFS', 'VTEX', 'AOGO', 'RDZN', 'INTE', 'JZXN', 'GIA', 'CTM', 'LYEL', 'OZKAP', 'VERV', 'NVCT', 'COCH', 'IVVD', 'IOBT', 'GRDI', 'EEIQ', 'CCGWW', 'IFIN', 'GV', 'EAC', 'BXSL', 'ALSA', 'ZJYL', 'ECCW', 'LUXH', 'SEDA', 'OKYO', 'DDI', 'PATH', 'HROWL', 'CDIO', 'CLDI', 'GLLIU', 'RGC', 'CAPT', 'SCLX', 'AQU', 'SGD', 'DBD', 'DDC', 'GENK', 'FBRT', 'AMLX', 'TDUP', 'AVDX', 'XLO', 'AUGX', 'VRAR', 'SES', 'CGON', 'VZLA', 'EDR', 'UDMY', 'ARIZU', 'TCN', 'GHIX', 'BTDR', 'RCAC', 'DRTS', 'BIRK', 'RBCP', 'TENKU', 'ELWS', 'MITAU', 'DPCS', 'MEGL', 'ARRW', 'RNXT', 'USGO', 'CNTA', 'NRDS', 'HCP', 'GRPH', 'NSTS', 'AERT', 'SHCO', 'MOND', 'WHFCL', 'SUGP', 'MVLA', 'GLLI', 'HBANM', 'ONON', 'ASCB', 'ARHS', 'KVAC', 'TKNO', 'GTAC', 'PBM', 'HGTY', 'HLP', 'BMEA', 'ACHL', 'SNTI', 'CVII', 'NTRBW', 'MNDY', 'XRTX', 'WEST', 'NPWR', 'HKIT', 'KACL', 'OLO', 'BLFY', 'PXDT', 'FIHL', 'BWMN', 'LFMDP', 'RSKD', 'ALCY', 'PWUP', 'PWM', 'NYMTL', 'MGRX', 'RWOD', 'FLGC', 'FNA', 'CINT', 'ENCP', 'MDXH', 'AACI', 'GPAK', 'MGRM', 'NRSN', 'BTTX', 'LIFWW', 'HLN', 'SFWL', 'TURB', 'RYAN', 'MGX', 'OXLCN', 'OCTO', 'HCTI', 'VFSWW', 'ACT', 'FRSH', 'RPID', 'INST', 'BASE', 'SSBK', 'ZIMV', 'GODN', 'ICG', 'SVMH', 'PFXNZ', 'BRKH', 'CLBR', 'NE', 'PMTU', 'BAM', 'LXEO', 'MARX', 'QOMO', 'CACO', 'VTYX', 'PLAO', 'STI', 'WBUY', 'ZCAR', 'SOPA', 'DTM', 'ECBK', 'ZLS', 'IROH', 'NYAX', 'TORO', 'OSCR', 'LCFY', 'CSLM', 'MCAA', 'AISP', 'APLMW', 'MCW', 'TUYA', 'ASBA', 'CTV', 'VAQC', 'HOVR', 'GATE', 'ECCF', 'WALDW', 'GEGGL', 'OPTX', 'THCH', 'RAYA', 'BOF', 'TRDA', 'ATMU', 'ZETA', 'FYBR', 'KLTR', 'IPX', 'SATX', 'VAXX', 'FINW', 'WS', 'IAUX', 'GGR', 'SCCE', 'SLVM', 'ELEV', 'IVCB', 'SAY', 'SKYT', 'DTCK', 'IPXX', 'SNPO', 'THRD', 'JANX', 'OMGA', 'AWIN', 'GMFIU', 'UHG', 'CADL', 'ACBA', 'RXST', 'VCSA', 'IRRX', 'FATH', 'JOAN', 'GAQ', 'AFCG', 'MOBX', 'ELYM', 'ESAC', 'MIMO', 'TVGN', 'GFR', 'PKST', 'ICCM', 'BOWL', 'EVGR', 'RWAYZ', 'MAIA', 'IE', 'ONMD', 'MOB', 'DAVE', 'BAYA', 'FIP', 'BLEU', 'HOOD', 'PRH', 'SDA', 'ESGL', 'LICN', 'ICCT', 'MXCT', 'CURV', 'FATBB', 'VRAX', 'EGOX', 'HYAC', 'PGYWW', 'DTG', 'DAWN', 'CGBDL', 'IINNW', 'CLCO', 'TRNR', 'SEPA', 'SKWD', 'ESLA', 'ELAB', 'FAZE', 'SEZL', 'NB', 'WNNR', 'DC', 'CETUU', 'RGF', 'DHAC', 'COOK', 'FSBC', 'NETD', 'REBN', 'CERO', 'FTCI', 'CRCT', 'PSQH', 'OSI', 'WRBY', 'MACA', 'PSNYW', 'TCBIO', 'AIB', 'HRYU', 'AVBP', 'IPW', 'ISPR', 'PMNT', 'VZIO', 'DRMA', 'SNCY', 'CNGL', 'DUET', 'AURA', 'OXLCZ', 'LQR', 'LLYVK', 'CHRO', 'RCFA', 'ANTX', 'YIBO', 'LATG', 'RRAC', 'IXAQ', 'VERA', 'CMTG', 'TOST', 'FORL', 'MMV', 'TGVCW', 'VIEW', 'NRXS', 'SPKL', 'CPOP', 'PMEC', 'IGTA', 'SKGRW', 'COUR', 'MCAF', 'TBMCR', 'LIBYU', 'NWGL', 'GSUN', 'VTS', 'ARBB', 'MBC', 'MHUA', 'INHD', 'CWAN', 'ALZN', 'ACVA', 'AKYA', 'SQFTP', 'ENFN', 'INTA', 'TPG', 'PGRU', 'SEAT', 'PTWOU', 'JEWL', 'DWAC']: Exception(\"%ticker%: Data doesn't exist for startDate = 1293858000, endDate = 1614488400\")\n"
     ]
    },
    {
     "name": "stderr",
     "output_type": "stream",
     "text": [
      "['CORZZ', 'GODNR', 'OCEAW', 'ESGLW', 'ARKOW', 'AEAEW', 'HYMCW', 'BNZIW', 'PCTTW', 'ORGNW', 'RWODW', 'STIXW', 'RWODR', 'ONFOW', 'GTACW', 'LTRYW', 'CSLMW', 'QDROW', 'ENCPW', 'HOFVW', 'ONYXW', 'SONDW', 'HYZNW', 'WINVR', 'ACBAW', 'FMSTW', 'CXAIW', 'HUBCW', 'CSLMR', 'AFJKR', 'DISTW', 'KITTW', 'AGBAW', 'CORZW', 'AONCW', 'PAYOW', 'HGASW', 'CREVW', 'IMAQR', 'RVMDW', 'ARIZW', 'NVNIW', 'DUETW', 'SLDPW', 'CMCAW', 'GRRRW', 'OXBRW', 'ASTLW', 'CRMLW', 'BENFW', 'SAITW', 'RUMBW', 'HTZWW', 'IPXXW', 'CMAXW', 'LNZAW', 'MAPSW', 'AERTW', 'RCKTW', 'AACIW', 'JTAIW', 'ROCLW', 'CRESW', 'BLEUW', 'PFTAW', 'RGTIW', 'HUMAW', 'BLDEW', 'MTEKW', 'SYTAW', 'CURIW', 'WGSWW', 'CDAQW', 'MBTCR', 'PMGMW', 'BYNOW', 'AIBBR', 'MSSAW', 'MCAAW', 'FREEW', 'LFLYW', 'LGHLW', 'AGRIW', 'WKSPW', 'ACONW', 'SPECW', 'BCDAW', 'DHCAW', 'CELUW', 'ASCAR', 'XBPEW', 'CNGLW', 'AIMDW', 'PIIIW', 'AENTW', 'PROCW', 'ESHAR', 'RCACW', 'FLFVW', 'ALSAW', 'SHPWW', 'LBBBR', 'KYCHR', 'DHAIW', 'SLAMW', 'SVIIW', 'GBBKR', 'BWAQW', 'SABSW', 'LUNRW', 'MITAW', 'BEATW', 'DHCNL', 'SQFTW', 'GCMGW', 'BZFDW', 'CAPTW', 'SOUNW', 'THCPW', 'KACLW', 'LBBBW', 'BFRGW', 'PBMWW', 'MVSTW', 'THWWW', 'AREBW', 'IROHW', 'APCXW', 'VSTEW', 'ADOCR', 'BHACW', 'TGAAW', 'MOBXW', 'NBSTW', 'GOEVW', 'ARIZR', 'VERBW', 'IROHR', 'CSSEL', 'STRCW', 'RCRTW', 'GECCZ', 'COCHW', 'ESACW', 'INVZW', 'GOVXW', 'PEGRW', 'ARTLW', 'FFIEW', 'APACW', 'ECDAW', 'FATBW', 'BUJAW', 'CDROW', 'AUUDW', 'HAIAW', 'HCMAW', 'CVIIW', 'BIAFW', 'UKOMW', 'MMVWW', 'GLLIW', 'ODVWZ', 'EMLDW', 'BCTXW', 'IVCAW', 'NIOBW', 'TENKR', 'SATLW', 'KTTAW', 'KPLTW', 'ANGHW', 'NVACR', 'GGROW', 'CTCXW', 'BREZW', 'ATMVR', 'ABLLW', 'CMPOW', 'ENGNW', 'GBBKW', 'ADTHW', 'SEPAW', 'CONXW', 'APXIW', 'GRDIW', 'NEOVW', 'CIFRW', 'NRXPW', 'JFBRW', 'CPTNW', 'DAVEW', 'TBLAW', 'LGVCW', 'AAGRW', 'ZCARW', 'GLSTR', 'DRTSW', 'SVIIR', 'SHOTW', 'MACAW', 'AVPTW', 'ASCAW', 'QOMOW', 'TCBPW', 'XPDBW', 'VWEWW', 'BFRIW', 'NCNCW', 'QETAR', 'BRKHW', 'SMXWW', 'SHFSW', 'FLFVR', 'SAGAR', 'SURGW', 'IVCPW', 'PAVMZ', 'SRZNW', 'IMAQW', 'VSACW', 'OABIW', 'BFIIW', 'EUDAW', 'BOCNW', 'GDEVW', 'AWINW', 'EFTRW', 'MSAIW', 'FTIIW', 'AISPW', 'PTIXW', 'TRONW', 'RDZNW', 'HCVIW', 'SNAXW', 'TVGNW', 'ESLAW', 'WLDSW', 'PXSAW', 'DCFCW', 'PEPLW', 'GMFIW', 'NXLIW', 'LOTWW', 'RELIW', 'EDBLW', 'XOSWW', 'FBYDW', 'SVMHW', 'FAZEW', 'SCRMW', 'GFAIW', 'SLNAW', 'EACPW', 'ACABW', 'BETRW', 'LSEAW', 'NNAVW', 'ARBEW', 'CDIOW', 'CEADW', 'KVACW', 'TETEW', 'FEXDW', 'IGTAR', 'SDAWW', 'DBGIW', 'IVDAW', 'VRMEW', 'NRSNW', 'VIEWW', 'COEPW', 'EVLVW', 'VGASW', 'ADVWW', 'DTSTW', 'DHACW', 'PPYAW', 'USGOW', 'NNAGW', 'KYCHW', 'IVCBW', 'HHGCW', 'UHGWW', 'RMCOW', 'ALSAR', 'WINVW', 'MCAGR', 'ARRWW', 'GSMGW', 'HOLOW', 'RVPHW', 'YSBPW', 'FNVTW', 'LEXXW', 'KWESW', 'SBFMW', 'ATMCW', 'ADOCW', 'ASTSW', 'PLMJW', 'ATNFW', 'JSPRW', 'AUROW', 'LCFYW', 'REVBW', 'TLGYW', 'BTMWW', 'YOTAR', 'NXPLW', 'PLTNW', 'ADSEW', 'BRSHW', 'PLAOW', 'TALKW', 'PLTNR', 'MVLAW', 'SFB', 'IMTXW', 'ADNWW', 'DRMAW', 'BAERW', 'CSLRW', 'SVREW', 'NVVEW', 'HUBCZ', 'MAQCW', 'HOVRW', 'BROGW', 'MDAIW', 'CLBTW', 'DFLIW', 'SWSSW', 'ZURAW', 'GROMW', 'OCSAW', 'HSCSW', 'QSIAW', 'ICUCW', 'ATMCR', 'CLNNW', 'BCSAW', 'RVSNW', 'ACACW', 'PRENW', 'LDTCW', 'SWVLW', 'NCPLW', 'ONMDW', 'ECXWW', 'PRSTW', 'TNONW', 'BRLSW', 'DISTR', 'AITRR', 'RFACW', 'BTBDW', 'SPKLW', 'BEEMW', 'SCLXW', 'GLSTW', 'WESTW', 'LVROW', 'PUCKW', 'ZAPPW', 'BREZR', 'ALVOW', 'DWACW', 'MNTSW', 'BTCTW', 'HSPOW', 'NXGLW']: Exception(\"%ticker%: Period '1mo' is invalid, must be one of ['1d', '5d']\")\n",
      "['NXTP', 'K', 'FBYD', 'FXNC', 'LNTH']: Exception('%ticker%: No price data found, symbol may be delisted (1d 2011-01-01 -> 2021-02-28)')\n"
     ]
    },
    {
     "name": "stdout",
     "output_type": "stream",
     "text": [
      "\n"
     ]
    },
    {
     "name": "stderr",
     "output_type": "stream",
     "text": [
      "C:\\Users\\wg999\\AppData\\Local\\Temp\\ipykernel_41472\\3760053719.py:10: FutureWarning: The default fill_method='pad' in DataFrame.pct_change is deprecated and will be removed in a future version. Either fill in any non-leading NA values prior to calling pct_change or specify 'fill_method=None' to not fill NA values.\n",
      "  stock_data = stock_data.pct_change().fillna(0)\n"
     ]
    }
   ],
   "source": [
    "# yf ticker download\n",
    "tickers = all_symbols\n",
    "tickers = [str(ticker) for ticker in tickers] # float 값을 포함하고 있어 전체 str로 변환\n",
    "\n",
    "data = yf.Tickers(tickers)\n",
    "stock_data = data.history(start='2011-01-01', end='2021-02-28', actions=False)\n",
    "stock_data.drop(['Open', 'High', 'Low', 'Volume'], inplace=True, axis=1)\n",
    "stock_data = stock_data.droplevel(0, axis=1)\n",
    "\n",
    "stock_data = stock_data.pct_change().fillna(0)\n",
    "stock_data = stock_data.iloc[1:]\n",
    "stock_data.to_csv('../data/raw/stock_data.csv')"
   ]
  },
  {
   "cell_type": "code",
   "execution_count": 32,
   "id": "c93b478b",
   "metadata": {},
   "outputs": [
    {
     "data": {
      "text/html": [
       "<div>\n",
       "<style scoped>\n",
       "    .dataframe tbody tr th:only-of-type {\n",
       "        vertical-align: middle;\n",
       "    }\n",
       "\n",
       "    .dataframe tbody tr th {\n",
       "        vertical-align: top;\n",
       "    }\n",
       "\n",
       "    .dataframe thead th {\n",
       "        text-align: right;\n",
       "    }\n",
       "</style>\n",
       "<table border=\"1\" class=\"dataframe\">\n",
       "  <thead>\n",
       "    <tr style=\"text-align: right;\">\n",
       "      <th></th>\n",
       "      <th>A</th>\n",
       "      <th>AA</th>\n",
       "      <th>AACG</th>\n",
       "      <th>AAL</th>\n",
       "      <th>AAON</th>\n",
       "      <th>AAP</th>\n",
       "      <th>AAPL</th>\n",
       "      <th>AAT</th>\n",
       "      <th>AAU</th>\n",
       "      <th>AB</th>\n",
       "      <th>...</th>\n",
       "      <th>ZBH</th>\n",
       "      <th>ZBRA</th>\n",
       "      <th>ZD</th>\n",
       "      <th>ZEUS</th>\n",
       "      <th>ZG</th>\n",
       "      <th>ZION</th>\n",
       "      <th>ZIONP</th>\n",
       "      <th>ZTR</th>\n",
       "      <th>ZUMZ</th>\n",
       "      <th>ZWS</th>\n",
       "    </tr>\n",
       "    <tr>\n",
       "      <th>Date</th>\n",
       "      <th></th>\n",
       "      <th></th>\n",
       "      <th></th>\n",
       "      <th></th>\n",
       "      <th></th>\n",
       "      <th></th>\n",
       "      <th></th>\n",
       "      <th></th>\n",
       "      <th></th>\n",
       "      <th></th>\n",
       "      <th></th>\n",
       "      <th></th>\n",
       "      <th></th>\n",
       "      <th></th>\n",
       "      <th></th>\n",
       "      <th></th>\n",
       "      <th></th>\n",
       "      <th></th>\n",
       "      <th></th>\n",
       "      <th></th>\n",
       "      <th></th>\n",
       "    </tr>\n",
       "  </thead>\n",
       "  <tbody>\n",
       "    <tr>\n",
       "      <th>2011-01-04 00:00:00</th>\n",
       "      <td>-0.009312</td>\n",
       "      <td>0.045570</td>\n",
       "      <td>0.010811</td>\n",
       "      <td>-0.002817</td>\n",
       "      <td>-0.031369</td>\n",
       "      <td>-0.049771</td>\n",
       "      <td>0.005219</td>\n",
       "      <td>0.000000</td>\n",
       "      <td>-0.059055</td>\n",
       "      <td>-0.012568</td>\n",
       "      <td>...</td>\n",
       "      <td>-0.013280</td>\n",
       "      <td>-0.009424</td>\n",
       "      <td>-0.009094</td>\n",
       "      <td>-0.002385</td>\n",
       "      <td>0.000000</td>\n",
       "      <td>-0.016289</td>\n",
       "      <td>0.007423</td>\n",
       "      <td>0.000851</td>\n",
       "      <td>-0.062270</td>\n",
       "      <td>0.000000</td>\n",
       "    </tr>\n",
       "    <tr>\n",
       "      <th>2011-01-05 00:00:00</th>\n",
       "      <td>-0.002169</td>\n",
       "      <td>0.002421</td>\n",
       "      <td>-0.010695</td>\n",
       "      <td>0.045198</td>\n",
       "      <td>0.005338</td>\n",
       "      <td>0.001286</td>\n",
       "      <td>0.008180</td>\n",
       "      <td>0.000000</td>\n",
       "      <td>0.000000</td>\n",
       "      <td>0.000000</td>\n",
       "      <td>...</td>\n",
       "      <td>0.000737</td>\n",
       "      <td>-0.001057</td>\n",
       "      <td>0.009177</td>\n",
       "      <td>0.007855</td>\n",
       "      <td>0.000000</td>\n",
       "      <td>0.005654</td>\n",
       "      <td>0.004211</td>\n",
       "      <td>-0.008499</td>\n",
       "      <td>0.047937</td>\n",
       "      <td>0.000000</td>\n",
       "    </tr>\n",
       "    <tr>\n",
       "      <th>2011-01-06 00:00:00</th>\n",
       "      <td>0.001932</td>\n",
       "      <td>-0.012078</td>\n",
       "      <td>0.037838</td>\n",
       "      <td>0.012613</td>\n",
       "      <td>-0.011327</td>\n",
       "      <td>-0.032895</td>\n",
       "      <td>-0.000808</td>\n",
       "      <td>0.000000</td>\n",
       "      <td>-0.064854</td>\n",
       "      <td>-0.014001</td>\n",
       "      <td>...</td>\n",
       "      <td>-0.030951</td>\n",
       "      <td>-0.008466</td>\n",
       "      <td>-0.010104</td>\n",
       "      <td>0.039647</td>\n",
       "      <td>0.000000</td>\n",
       "      <td>-0.002811</td>\n",
       "      <td>0.000000</td>\n",
       "      <td>0.002858</td>\n",
       "      <td>-0.083615</td>\n",
       "      <td>0.000000</td>\n",
       "    </tr>\n",
       "    <tr>\n",
       "      <th>2011-01-07 00:00:00</th>\n",
       "      <td>0.003375</td>\n",
       "      <td>0.003667</td>\n",
       "      <td>0.002604</td>\n",
       "      <td>0.014235</td>\n",
       "      <td>-0.041890</td>\n",
       "      <td>0.026713</td>\n",
       "      <td>0.007161</td>\n",
       "      <td>0.000000</td>\n",
       "      <td>-0.031320</td>\n",
       "      <td>-0.001291</td>\n",
       "      <td>...</td>\n",
       "      <td>-0.000190</td>\n",
       "      <td>0.003202</td>\n",
       "      <td>-0.018714</td>\n",
       "      <td>-0.104628</td>\n",
       "      <td>0.000000</td>\n",
       "      <td>-0.010471</td>\n",
       "      <td>0.001048</td>\n",
       "      <td>-0.002849</td>\n",
       "      <td>0.049100</td>\n",
       "      <td>0.000000</td>\n",
       "    </tr>\n",
       "    <tr>\n",
       "      <th>2011-01-10 00:00:00</th>\n",
       "      <td>0.014416</td>\n",
       "      <td>0.004263</td>\n",
       "      <td>-0.005195</td>\n",
       "      <td>0.006140</td>\n",
       "      <td>0.007847</td>\n",
       "      <td>0.007434</td>\n",
       "      <td>0.018833</td>\n",
       "      <td>0.000000</td>\n",
       "      <td>0.018476</td>\n",
       "      <td>-0.002585</td>\n",
       "      <td>...</td>\n",
       "      <td>0.007796</td>\n",
       "      <td>0.002926</td>\n",
       "      <td>-0.006935</td>\n",
       "      <td>0.008737</td>\n",
       "      <td>0.000000</td>\n",
       "      <td>-0.017908</td>\n",
       "      <td>0.000000</td>\n",
       "      <td>0.002858</td>\n",
       "      <td>-0.001560</td>\n",
       "      <td>0.000000</td>\n",
       "    </tr>\n",
       "    <tr>\n",
       "      <th>...</th>\n",
       "      <td>...</td>\n",
       "      <td>...</td>\n",
       "      <td>...</td>\n",
       "      <td>...</td>\n",
       "      <td>...</td>\n",
       "      <td>...</td>\n",
       "      <td>...</td>\n",
       "      <td>...</td>\n",
       "      <td>...</td>\n",
       "      <td>...</td>\n",
       "      <td>...</td>\n",
       "      <td>...</td>\n",
       "      <td>...</td>\n",
       "      <td>...</td>\n",
       "      <td>...</td>\n",
       "      <td>...</td>\n",
       "      <td>...</td>\n",
       "      <td>...</td>\n",
       "      <td>...</td>\n",
       "      <td>...</td>\n",
       "      <td>...</td>\n",
       "    </tr>\n",
       "    <tr>\n",
       "      <th>2021-02-22 00:00:00</th>\n",
       "      <td>-0.026563</td>\n",
       "      <td>0.072201</td>\n",
       "      <td>-0.047703</td>\n",
       "      <td>0.094218</td>\n",
       "      <td>-0.012987</td>\n",
       "      <td>0.010363</td>\n",
       "      <td>-0.029799</td>\n",
       "      <td>0.039249</td>\n",
       "      <td>-0.046690</td>\n",
       "      <td>-0.006208</td>\n",
       "      <td>...</td>\n",
       "      <td>0.023425</td>\n",
       "      <td>-0.005357</td>\n",
       "      <td>-0.004836</td>\n",
       "      <td>0.121696</td>\n",
       "      <td>-0.092604</td>\n",
       "      <td>0.032108</td>\n",
       "      <td>0.000396</td>\n",
       "      <td>0.014673</td>\n",
       "      <td>0.037142</td>\n",
       "      <td>-0.009489</td>\n",
       "    </tr>\n",
       "    <tr>\n",
       "      <th>2021-02-23 00:00:00</th>\n",
       "      <td>-0.008745</td>\n",
       "      <td>0.004032</td>\n",
       "      <td>-0.172542</td>\n",
       "      <td>0.010763</td>\n",
       "      <td>0.010921</td>\n",
       "      <td>-0.009004</td>\n",
       "      <td>-0.001111</td>\n",
       "      <td>0.038424</td>\n",
       "      <td>-0.084315</td>\n",
       "      <td>-0.017110</td>\n",
       "      <td>...</td>\n",
       "      <td>0.009542</td>\n",
       "      <td>0.019885</td>\n",
       "      <td>0.002017</td>\n",
       "      <td>0.028493</td>\n",
       "      <td>0.007771</td>\n",
       "      <td>0.015180</td>\n",
       "      <td>-0.000400</td>\n",
       "      <td>0.001112</td>\n",
       "      <td>-0.020314</td>\n",
       "      <td>-0.004137</td>\n",
       "    </tr>\n",
       "    <tr>\n",
       "      <th>2021-02-24 00:00:00</th>\n",
       "      <td>0.021238</td>\n",
       "      <td>0.092370</td>\n",
       "      <td>0.134529</td>\n",
       "      <td>0.056147</td>\n",
       "      <td>0.013666</td>\n",
       "      <td>-0.000241</td>\n",
       "      <td>-0.004052</td>\n",
       "      <td>0.033523</td>\n",
       "      <td>0.098984</td>\n",
       "      <td>0.010500</td>\n",
       "      <td>...</td>\n",
       "      <td>0.011244</td>\n",
       "      <td>0.029457</td>\n",
       "      <td>0.037061</td>\n",
       "      <td>0.020778</td>\n",
       "      <td>-0.016335</td>\n",
       "      <td>0.048182</td>\n",
       "      <td>0.000040</td>\n",
       "      <td>0.002222</td>\n",
       "      <td>0.025866</td>\n",
       "      <td>0.007215</td>\n",
       "    </tr>\n",
       "    <tr>\n",
       "      <th>2021-02-25 00:00:00</th>\n",
       "      <td>-0.023356</td>\n",
       "      <td>-0.060294</td>\n",
       "      <td>0.000000</td>\n",
       "      <td>-0.043996</td>\n",
       "      <td>-0.016050</td>\n",
       "      <td>-0.032982</td>\n",
       "      <td>-0.034783</td>\n",
       "      <td>0.000306</td>\n",
       "      <td>-0.026737</td>\n",
       "      <td>-0.002734</td>\n",
       "      <td>...</td>\n",
       "      <td>0.004948</td>\n",
       "      <td>-0.029394</td>\n",
       "      <td>-0.033177</td>\n",
       "      <td>-0.032881</td>\n",
       "      <td>-0.074846</td>\n",
       "      <td>-0.038922</td>\n",
       "      <td>0.002300</td>\n",
       "      <td>-0.011086</td>\n",
       "      <td>-0.030631</td>\n",
       "      <td>-0.018450</td>\n",
       "    </tr>\n",
       "    <tr>\n",
       "      <th>2021-02-26 00:00:00</th>\n",
       "      <td>-0.000246</td>\n",
       "      <td>-0.039515</td>\n",
       "      <td>-0.001976</td>\n",
       "      <td>0.003835</td>\n",
       "      <td>0.006133</td>\n",
       "      <td>-0.001992</td>\n",
       "      <td>0.002232</td>\n",
       "      <td>-0.049250</td>\n",
       "      <td>-0.071781</td>\n",
       "      <td>0.002468</td>\n",
       "      <td>...</td>\n",
       "      <td>-0.008754</td>\n",
       "      <td>0.003637</td>\n",
       "      <td>0.016519</td>\n",
       "      <td>-0.036197</td>\n",
       "      <td>0.065838</td>\n",
       "      <td>-0.025655</td>\n",
       "      <td>-0.010017</td>\n",
       "      <td>0.006726</td>\n",
       "      <td>-0.030954</td>\n",
       "      <td>-0.005971</td>\n",
       "    </tr>\n",
       "  </tbody>\n",
       "</table>\n",
       "<p>2554 rows × 2834 columns</p>\n",
       "</div>"
      ],
      "text/plain": [
       "                            A        AA      AACG       AAL      AAON  \\\n",
       "Date                                                                    \n",
       "2011-01-04 00:00:00 -0.009312  0.045570  0.010811 -0.002817 -0.031369   \n",
       "2011-01-05 00:00:00 -0.002169  0.002421 -0.010695  0.045198  0.005338   \n",
       "2011-01-06 00:00:00  0.001932 -0.012078  0.037838  0.012613 -0.011327   \n",
       "2011-01-07 00:00:00  0.003375  0.003667  0.002604  0.014235 -0.041890   \n",
       "2011-01-10 00:00:00  0.014416  0.004263 -0.005195  0.006140  0.007847   \n",
       "...                       ...       ...       ...       ...       ...   \n",
       "2021-02-22 00:00:00 -0.026563  0.072201 -0.047703  0.094218 -0.012987   \n",
       "2021-02-23 00:00:00 -0.008745  0.004032 -0.172542  0.010763  0.010921   \n",
       "2021-02-24 00:00:00  0.021238  0.092370  0.134529  0.056147  0.013666   \n",
       "2021-02-25 00:00:00 -0.023356 -0.060294  0.000000 -0.043996 -0.016050   \n",
       "2021-02-26 00:00:00 -0.000246 -0.039515 -0.001976  0.003835  0.006133   \n",
       "\n",
       "                          AAP      AAPL       AAT       AAU        AB  ...  \\\n",
       "Date                                                                   ...   \n",
       "2011-01-04 00:00:00 -0.049771  0.005219  0.000000 -0.059055 -0.012568  ...   \n",
       "2011-01-05 00:00:00  0.001286  0.008180  0.000000  0.000000  0.000000  ...   \n",
       "2011-01-06 00:00:00 -0.032895 -0.000808  0.000000 -0.064854 -0.014001  ...   \n",
       "2011-01-07 00:00:00  0.026713  0.007161  0.000000 -0.031320 -0.001291  ...   \n",
       "2011-01-10 00:00:00  0.007434  0.018833  0.000000  0.018476 -0.002585  ...   \n",
       "...                       ...       ...       ...       ...       ...  ...   \n",
       "2021-02-22 00:00:00  0.010363 -0.029799  0.039249 -0.046690 -0.006208  ...   \n",
       "2021-02-23 00:00:00 -0.009004 -0.001111  0.038424 -0.084315 -0.017110  ...   \n",
       "2021-02-24 00:00:00 -0.000241 -0.004052  0.033523  0.098984  0.010500  ...   \n",
       "2021-02-25 00:00:00 -0.032982 -0.034783  0.000306 -0.026737 -0.002734  ...   \n",
       "2021-02-26 00:00:00 -0.001992  0.002232 -0.049250 -0.071781  0.002468  ...   \n",
       "\n",
       "                          ZBH      ZBRA        ZD      ZEUS        ZG  \\\n",
       "Date                                                                    \n",
       "2011-01-04 00:00:00 -0.013280 -0.009424 -0.009094 -0.002385  0.000000   \n",
       "2011-01-05 00:00:00  0.000737 -0.001057  0.009177  0.007855  0.000000   \n",
       "2011-01-06 00:00:00 -0.030951 -0.008466 -0.010104  0.039647  0.000000   \n",
       "2011-01-07 00:00:00 -0.000190  0.003202 -0.018714 -0.104628  0.000000   \n",
       "2011-01-10 00:00:00  0.007796  0.002926 -0.006935  0.008737  0.000000   \n",
       "...                       ...       ...       ...       ...       ...   \n",
       "2021-02-22 00:00:00  0.023425 -0.005357 -0.004836  0.121696 -0.092604   \n",
       "2021-02-23 00:00:00  0.009542  0.019885  0.002017  0.028493  0.007771   \n",
       "2021-02-24 00:00:00  0.011244  0.029457  0.037061  0.020778 -0.016335   \n",
       "2021-02-25 00:00:00  0.004948 -0.029394 -0.033177 -0.032881 -0.074846   \n",
       "2021-02-26 00:00:00 -0.008754  0.003637  0.016519 -0.036197  0.065838   \n",
       "\n",
       "                         ZION     ZIONP       ZTR      ZUMZ       ZWS  \n",
       "Date                                                                   \n",
       "2011-01-04 00:00:00 -0.016289  0.007423  0.000851 -0.062270  0.000000  \n",
       "2011-01-05 00:00:00  0.005654  0.004211 -0.008499  0.047937  0.000000  \n",
       "2011-01-06 00:00:00 -0.002811  0.000000  0.002858 -0.083615  0.000000  \n",
       "2011-01-07 00:00:00 -0.010471  0.001048 -0.002849  0.049100  0.000000  \n",
       "2011-01-10 00:00:00 -0.017908  0.000000  0.002858 -0.001560  0.000000  \n",
       "...                       ...       ...       ...       ...       ...  \n",
       "2021-02-22 00:00:00  0.032108  0.000396  0.014673  0.037142 -0.009489  \n",
       "2021-02-23 00:00:00  0.015180 -0.000400  0.001112 -0.020314 -0.004137  \n",
       "2021-02-24 00:00:00  0.048182  0.000040  0.002222  0.025866  0.007215  \n",
       "2021-02-25 00:00:00 -0.038922  0.002300 -0.011086 -0.030631 -0.018450  \n",
       "2021-02-26 00:00:00 -0.025655 -0.010017  0.006726 -0.030954 -0.005971  \n",
       "\n",
       "[2554 rows x 2834 columns]"
      ]
     },
     "execution_count": 32,
     "metadata": {},
     "output_type": "execute_result"
    }
   ],
   "source": [
    "stock_data = pd.read_csv('../data/raw/stock_data.csv', index_col=0)\n",
    "zero_ratio = (stock_data == 0).mean()\n",
    "stock_data = stock_data.loc[:, zero_ratio < 0.2]\n",
    "stock_data"
   ]
  },
  {
   "cell_type": "code",
   "execution_count": 41,
   "id": "421114f7",
   "metadata": {},
   "outputs": [],
   "source": [
    "stock_data.to_csv('../data/processed/stock_data_cleaning.csv')"
   ]
  },
  {
   "cell_type": "code",
   "execution_count": 42,
   "id": "09f2dd96",
   "metadata": {},
   "outputs": [],
   "source": [
    "# Simple Moving Average\n",
    "sma_20 = stock_data.rolling(window=20).mean()\n",
    "sma_50 = stock_data.rolling(window=50).mean()\n",
    "\n",
    "# Exponential Moving Average\n",
    "ema_20 = stock_data.rolling(window=20).mean()\n",
    "ema_50 = stock_data.rolling(window=50).mean()\n",
    "\n",
    "sma_20.to_csv('../data/processed/stock_data_sma_20.csv')\n",
    "sma_50.to_csv('../data/processed/stock_data_sma_50.csv')\n",
    "ema_20.to_csv('../data/processed/stock_data_ema_20.csv')\n",
    "ema_50.to_csv('../data/processed/stock_data_ema_50.csv')"
   ]
  }
 ],
 "metadata": {
  "kernelspec": {
   "display_name": "finance",
   "language": "python",
   "name": "finance"
  },
  "language_info": {
   "codemirror_mode": {
    "name": "ipython",
    "version": 3
   },
   "file_extension": ".py",
   "mimetype": "text/x-python",
   "name": "python",
   "nbconvert_exporter": "python",
   "pygments_lexer": "ipython3",
   "version": "3.11.4"
  }
 },
 "nbformat": 4,
 "nbformat_minor": 5
}
